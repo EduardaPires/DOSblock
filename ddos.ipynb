{
  "nbformat": 4,
  "nbformat_minor": 0,
  "metadata": {
    "colab": {
      "provenance": []
    },
    "kernelspec": {
      "name": "python3",
      "display_name": "Python 3"
    },
    "language_info": {
      "name": "python"
    }
  },
  "cells": [
    {
      "cell_type": "code",
      "execution_count": 8,
      "metadata": {
        "id": "OHMxOuj7NZjP"
      },
      "outputs": [],
      "source": [
        "import re\n",
        "import pandas as pd\n",
        "import matplotlib.pyplot as plt\n",
        "import seaborn as sns\n",
        "from sklearn.preprocessing import StandardScaler, LabelEncoder\n",
        "from sklearn import metrics\n",
        "from scipy.spatial.distance import cdist\n",
        "import numpy as np\n",
        "from sklearn.cluster import KMeans\n",
        "import os\n",
        "from sklearn.cluster import KMeans\n",
        "#ler os logs\n",
        "d1 = pd.read_csv('/content/logs.log',header=None,names=['C1','C2'])"
      ]
    },
    {
      "cell_type": "code",
      "source": [
        "#filtrar os dados:\n",
        "d1['IP_Address']=d1.C1.apply( lambda x: pd.Series(str(x).split(\" \")))[0]\n",
        "d1['Time']=d1.C1.apply( lambda x: pd.Series(str(x).split(\" \")))[3]\n",
        "d1['Time']=d1.Time.apply( lambda x: pd.Series(str(x).split(\"[\")))[1]\n",
        "d1['Method']=d1.C1.apply( lambda x: pd.Series(str(x).split(\" \")))[5]\n",
        "d1['Method']=d1.Method.apply( lambda x: pd.Series(str(x).split('\\\"')))[1]\n",
        "d1['Resource']=d1.C1.apply( lambda x: pd.Series(str(x).split(\" \")))[6]\n",
        "d1['Protocol']=d1.C1.apply( lambda x: pd.Series(str(x).split(\" \")))[7]\n",
        "d1['Protocol']=d1.Protocol.apply( lambda x: pd.Series(str(x).split('\\\"')))[0]\n",
        "d1['Status']=d1.C1.apply( lambda x: pd.Series(str(x).split(\" \")))[8]\n",
        "#padronizacao dos dados\n",
        "dataset=d1.drop(labels=['C1','C2'],axis=1)\n",
        "print(d1)"
      ],
      "metadata": {
        "colab": {
          "base_uri": "https://localhost:8080/"
        },
        "id": "hotl8ZavN_Pc",
        "outputId": "f2e9482f-2f49-48da-d2e2-770157f4ba32"
      },
      "execution_count": 9,
      "outputs": [
        {
          "output_type": "stream",
          "name": "stdout",
          "text": [
            "                                                     C1  \\\n",
            "0     192.168.2.30 - - [20/Nov/2023:08:18:00 -0500] ...   \n",
            "1     192.168.2.30 - - [20/Nov/2023:08:18:00 -0500] ...   \n",
            "2     192.168.2.30 - - [20/Nov/2023:08:18:00 -0500] ...   \n",
            "3     192.168.2.30 - - [20/Nov/2023:08:18:00 -0500] ...   \n",
            "4     192.168.2.30 - - [20/Nov/2023:08:18:00 -0500] ...   \n",
            "...                                                 ...   \n",
            "1820  192.168.2.15 - - [20/Nov/2023:08:18:01 -0500] ...   \n",
            "1821  192.168.2.15 - - [20/Nov/2023:08:18:01 -0500] ...   \n",
            "1822  192.168.2.15 - - [20/Nov/2023:08:18:01 -0500] ...   \n",
            "1823  192.168.2.15 - - [20/Nov/2023:08:18:01 -0500] ...   \n",
            "1824  192.168.2.15 - - [20/Nov/2023:08:18:01 -0500] ...   \n",
            "\n",
            "                                               C2    IP_Address  \\\n",
            "0      like Gecko) Chrome/4.0.219.6 Safari/532.1\"  192.168.2.30   \n",
            "1                                             NaN  192.168.2.30   \n",
            "2                                             NaN  192.168.2.30   \n",
            "3                                             NaN  192.168.2.30   \n",
            "4                                             NaN  192.168.2.30   \n",
            "...                                           ...           ...   \n",
            "1820                                          NaN  192.168.2.15   \n",
            "1821                                          NaN  192.168.2.15   \n",
            "1822                                          NaN  192.168.2.15   \n",
            "1823                                          NaN  192.168.2.15   \n",
            "1824                                          NaN  192.168.2.15   \n",
            "\n",
            "                      Time Method                Resource  Protocol Status  \n",
            "0     20/Nov/2023:08:18:00    GET  /?VLJCSPARBZ=JWRMSFFAW  HTTP/1.1    200  \n",
            "1     20/Nov/2023:08:18:00    GET   /?ORQUBUADZB=OFMFHZJZ  HTTP/1.1    200  \n",
            "2     20/Nov/2023:08:18:00    GET             /?DXT=IOZLM  HTTP/1.1    200  \n",
            "3     20/Nov/2023:08:18:00    GET              /?SXK=DHTI  HTTP/1.1    200  \n",
            "4     20/Nov/2023:08:18:00    GET    /?PRQDXKZHSA=GMJAKRK  HTTP/1.1    200  \n",
            "...                    ...    ...                     ...       ...    ...  \n",
            "1820  20/Nov/2023:08:18:01    GET         /?MUVF=RKPAMPJY  HTTP/1.1    200  \n",
            "1821  20/Nov/2023:08:18:01    GET         /?MUVF=RKPAMPJY  HTTP/1.1    200  \n",
            "1822  20/Nov/2023:08:18:01    GET         /?MUVF=RKPAMPJY  HTTP/1.1    200  \n",
            "1823  20/Nov/2023:08:18:01    GET         /?MUVF=RKPAMPJY  HTTP/1.1    200  \n",
            "1824  20/Nov/2023:08:18:01    GET         /?MUVF=RKPAMPJY  HTTP/1.1    200  \n",
            "\n",
            "[1825 rows x 8 columns]\n"
          ]
        }
      ]
    },
    {
      "cell_type": "code",
      "source": [
        "# Encontrar índices onde 'Method' é igual a '-'\n",
        "indexNames = dataset[dataset['Method'] == '-'].index\n",
        "\n",
        "# Excluir essas linhas do DataFrame\n",
        "dataset.drop(indexNames, inplace=True)\n",
        "\n",
        "# Em seguida, remover as colunas 'Time', 'Resource' e 'Protocol'\n",
        "dataset = dataset.drop(labels=['Time', 'Resource', 'Protocol'], axis=1)\n",
        "\n",
        "# Agora, agrupar os dados e criar o gráfico de barras\n",
        "grouped_data = dataset.groupby(['IP_Address', 'Method', 'Status']).size().reset_index(name=\"access_counts\")\n",
        "\n",
        "# Plotar o gráfico de barras\n",
        "plt.bar(grouped_data.IP_Address, grouped_data.access_counts, tick_label=grouped_data.IP_Address, width=0.8)\n",
        "plt.show()\n"
      ],
      "metadata": {
        "colab": {
          "base_uri": "https://localhost:8080/",
          "height": 430
        },
        "id": "HiDzzTxWO9KV",
        "outputId": "c0013a68-2670-4528-c4f1-2bdc1856ad58"
      },
      "execution_count": 10,
      "outputs": [
        {
          "output_type": "display_data",
          "data": {
            "text/plain": [
              "<Figure size 640x480 with 1 Axes>"
            ],
            "image/png": "[encoded data removed]"
          },
          "metadata": {}
        }
      ]
    },
    {
      "cell_type": "code",
      "source": [
        "\n",
        "# Convertendo o endereço IP para valores numéricos\n",
        "label_encoder = LabelEncoder()\n",
        "grouped_data['IP_Address'] = label_encoder.fit_transform(grouped_data['IP_Address'])\n",
        "\n",
        "# padronizacao dos dados\n",
        "train_data = grouped_data.drop(labels=['Method','Status'], axis=1)\n",
        "sc = StandardScaler()\n",
        "train_data = sc.fit_transform(train_data)\n",
        "\n",
        "\n",
        "# #Using Elbow method for optimum K value for K-Means Clustering\n",
        "# distortions = []\n",
        "# K = range(1,5)\n",
        "# for k in K:\n",
        "#     kmeanModel = KMeans(n_clusters=k).fit(train_data)\n",
        "#     kmeanModel.fit(train_data)\n",
        "#     distortions.append(sum(np.min(cdist(train_data, kmeanModel.cluster_centers_, 'euclidean'), axis=1)) / train_data.shape[0])\n",
        "# plt.plot(K, distortions, 'bx-')\n",
        "# plt.xlabel('k')\n",
        "# plt.ylabel('Distortion')\n",
        "# plt.title('The Elbow Method showing the optimal k')\n",
        "# plt.show()\n",
        "\n",
        "\n",
        "# K-Means Clustering model\n",
        "# Criando o modelo\n",
        "seed = 42\n",
        "model = KMeans(n_clusters=2, random_state=seed)\n",
        "\n",
        "# Fit and Predict\n",
        "pred = model.fit_predict(train_data)\n",
        "\n",
        "# Adicionando rótulos de cluster ao conjunto de dados\n",
        "grouped_data['Cluster'] = pred"
      ],
      "metadata": {
        "colab": {
          "base_uri": "https://localhost:8080/"
        },
        "id": "IPI7D94GR-sK",
        "outputId": "6aa727d2-3ed3-4339-c29d-90c98f89718d"
      },
      "execution_count": 11,
      "outputs": [
        {
          "output_type": "stream",
          "name": "stderr",
          "text": [
            "/usr/local/lib/python3.10/dist-packages/sklearn/cluster/_kmeans.py:870: FutureWarning: The default value of `n_init` will change from 10 to 'auto' in 1.4. Set the value of `n_init` explicitly to suppress the warning\n",
            "  warnings.warn(\n"
          ]
        }
      ]
    },
    {
      "cell_type": "code",
      "source": [
        "# Bloqueando IPs\n",
        "with open(\"/content/blocked_ips.txt\", \"a+\") as f:\n",
        "    print(f.read())\n",
        "    for i in grouped_data.index:\n",
        "        if grouped_data['Cluster'][i] == 1:\n",
        "            ip_address = str(grouped_data['IP_Address'][i])\n",
        "            print(\"Blocked IP: \" + ip_address)\n",
        "            f.seek(0)\n",
        "            if ip_address in f.read():\n",
        "                print(\"Already present\")\n",
        "            else:\n",
        "                print(\"New IP is added to the list\")\n",
        "                f.write(ip_address + \"\\n\")\n",
        "f.close()\n"
      ],
      "metadata": {
        "colab": {
          "base_uri": "https://localhost:8080/"
        },
        "id": "C9GVmGpQV8UU",
        "outputId": "aa416278-c665-4e1e-f46e-5adfe3a6a50f"
      },
      "execution_count": 12,
      "outputs": [
        {
          "output_type": "stream",
          "name": "stdout",
          "text": [
            "\n",
            "Blocked IP: 1\n",
            "New IP is added to the list\n"
          ]
        }
      ]
    }
  ]
}